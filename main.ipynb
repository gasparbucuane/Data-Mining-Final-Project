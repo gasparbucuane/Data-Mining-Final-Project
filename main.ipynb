{
 "cells": [
  {
   "cell_type": "code",
   "execution_count": null,
   "id": "3a4b62cc-6f15-4f9c-9977-a9165c454888",
   "metadata": {},
   "outputs": [],
   "source": []
  },
  {
   "cell_type": "markdown",
   "id": "51a95968-e231-49df-9be8-8172010a8239",
   "metadata": {},
   "source": [
    "Import libraries"
   ]
  },
  {
   "cell_type": "code",
   "execution_count": 62,
   "id": "18d22059-fe1b-49d5-8b2a-932469a667fb",
   "metadata": {
    "tags": []
   },
   "outputs": [],
   "source": [
    "import pandas as pd \n",
    "import seaborn as sns\n",
    "import matplotlib.pyplot as plt"
   ]
  },
  {
   "cell_type": "markdown",
   "id": "cf4ecc82-0bcc-44d3-b171-b49021e7096a",
   "metadata": {},
   "source": [
    "Load the Data Set"
   ]
  },
  {
   "cell_type": "code",
   "execution_count": 5,
   "id": "d1e2dbf6-fc0d-4d74-b5f8-7b13f69f605f",
   "metadata": {},
   "outputs": [],
   "source": [
    "data_set = pd.read_csv('data.csv')"
   ]
  },
  {
   "cell_type": "markdown",
   "id": "4f0a120b-75c5-40b1-8297-63c41698417d",
   "metadata": {},
   "source": [
    "Describe the Data Set"
   ]
  },
  {
   "cell_type": "code",
   "execution_count": 6,
   "id": "b0436d07-f70d-4bf3-9f70-aa7d9ec5357a",
   "metadata": {},
   "outputs": [
    {
     "name": "stdout",
     "output_type": "stream",
     "text": [
      "               age     perfEval    seniority        basePay         bonus\n",
      "count  1000.000000  1000.000000  1000.000000    1000.000000   1000.000000\n",
      "mean     41.393000     3.037000     2.971000   94472.653000   6467.161000\n",
      "std      14.294856     1.423959     1.395029   25337.493272   2004.377365\n",
      "min      18.000000     1.000000     1.000000   34208.000000   1703.000000\n",
      "25%      29.000000     2.000000     2.000000   76850.250000   4849.500000\n",
      "50%      41.000000     3.000000     3.000000   93327.500000   6507.000000\n",
      "75%      54.250000     4.000000     4.000000  111558.000000   8026.000000\n",
      "max      65.000000     5.000000     5.000000  179726.000000  11293.000000\n"
     ]
    }
   ],
   "source": [
    "print(data_set.describe())"
   ]
  },
  {
   "cell_type": "markdown",
   "id": "2ae49f1e-3b68-40d1-9d10-924040e99940",
   "metadata": {},
   "source": [
    "The proposed dataset contains 1000 profiles carried out by some workers info. Each profile is described by a set of 9 attributes, which provide information on both the worker and the job."
   ]
  },
  {
   "cell_type": "code",
   "execution_count": 63,
   "id": "e6db7666-c24d-4a60-a48c-2c60987014aa",
   "metadata": {},
   "outputs": [
    {
     "data": {
      "text/html": [
       "<div>\n",
       "<style scoped>\n",
       "    .dataframe tbody tr th:only-of-type {\n",
       "        vertical-align: middle;\n",
       "    }\n",
       "\n",
       "    .dataframe tbody tr th {\n",
       "        vertical-align: top;\n",
       "    }\n",
       "\n",
       "    .dataframe thead th {\n",
       "        text-align: right;\n",
       "    }\n",
       "</style>\n",
       "<table border=\"1\" class=\"dataframe\">\n",
       "  <thead>\n",
       "    <tr style=\"text-align: right;\">\n",
       "      <th></th>\n",
       "      <th>jobTitle</th>\n",
       "      <th>gender</th>\n",
       "      <th>age</th>\n",
       "      <th>perfEval</th>\n",
       "      <th>edu</th>\n",
       "      <th>dept</th>\n",
       "      <th>seniority</th>\n",
       "      <th>basePay</th>\n",
       "      <th>bonus</th>\n",
       "      <th>desc_len</th>\n",
       "    </tr>\n",
       "  </thead>\n",
       "  <tbody>\n",
       "    <tr>\n",
       "      <th>0</th>\n",
       "      <td>Graphic Designer</td>\n",
       "      <td>Female</td>\n",
       "      <td>18</td>\n",
       "      <td>5</td>\n",
       "      <td>College</td>\n",
       "      <td>Operations</td>\n",
       "      <td>2</td>\n",
       "      <td>42363</td>\n",
       "      <td>9938</td>\n",
       "      <td>16</td>\n",
       "    </tr>\n",
       "    <tr>\n",
       "      <th>1</th>\n",
       "      <td>Software Engineer</td>\n",
       "      <td>Male</td>\n",
       "      <td>21</td>\n",
       "      <td>5</td>\n",
       "      <td>College</td>\n",
       "      <td>Management</td>\n",
       "      <td>5</td>\n",
       "      <td>108476</td>\n",
       "      <td>11128</td>\n",
       "      <td>17</td>\n",
       "    </tr>\n",
       "    <tr>\n",
       "      <th>2</th>\n",
       "      <td>Warehouse Associate</td>\n",
       "      <td>Female</td>\n",
       "      <td>19</td>\n",
       "      <td>4</td>\n",
       "      <td>PhD</td>\n",
       "      <td>Administration</td>\n",
       "      <td>5</td>\n",
       "      <td>90208</td>\n",
       "      <td>9268</td>\n",
       "      <td>19</td>\n",
       "    </tr>\n",
       "    <tr>\n",
       "      <th>3</th>\n",
       "      <td>Software Engineer</td>\n",
       "      <td>Male</td>\n",
       "      <td>20</td>\n",
       "      <td>5</td>\n",
       "      <td>Masters</td>\n",
       "      <td>Sales</td>\n",
       "      <td>4</td>\n",
       "      <td>108080</td>\n",
       "      <td>10154</td>\n",
       "      <td>17</td>\n",
       "    </tr>\n",
       "    <tr>\n",
       "      <th>4</th>\n",
       "      <td>Graphic Designer</td>\n",
       "      <td>Male</td>\n",
       "      <td>26</td>\n",
       "      <td>5</td>\n",
       "      <td>Masters</td>\n",
       "      <td>Engineering</td>\n",
       "      <td>5</td>\n",
       "      <td>99464</td>\n",
       "      <td>9319</td>\n",
       "      <td>16</td>\n",
       "    </tr>\n",
       "    <tr>\n",
       "      <th>5</th>\n",
       "      <td>IT</td>\n",
       "      <td>Female</td>\n",
       "      <td>20</td>\n",
       "      <td>5</td>\n",
       "      <td>PhD</td>\n",
       "      <td>Operations</td>\n",
       "      <td>4</td>\n",
       "      <td>70890</td>\n",
       "      <td>10126</td>\n",
       "      <td>2</td>\n",
       "    </tr>\n",
       "    <tr>\n",
       "      <th>6</th>\n",
       "      <td>Graphic Designer</td>\n",
       "      <td>Female</td>\n",
       "      <td>20</td>\n",
       "      <td>5</td>\n",
       "      <td>College</td>\n",
       "      <td>Sales</td>\n",
       "      <td>4</td>\n",
       "      <td>67585</td>\n",
       "      <td>10541</td>\n",
       "      <td>16</td>\n",
       "    </tr>\n",
       "    <tr>\n",
       "      <th>7</th>\n",
       "      <td>Software Engineer</td>\n",
       "      <td>Male</td>\n",
       "      <td>18</td>\n",
       "      <td>4</td>\n",
       "      <td>PhD</td>\n",
       "      <td>Engineering</td>\n",
       "      <td>5</td>\n",
       "      <td>97523</td>\n",
       "      <td>10240</td>\n",
       "      <td>17</td>\n",
       "    </tr>\n",
       "    <tr>\n",
       "      <th>8</th>\n",
       "      <td>Graphic Designer</td>\n",
       "      <td>Female</td>\n",
       "      <td>33</td>\n",
       "      <td>5</td>\n",
       "      <td>High School</td>\n",
       "      <td>Engineering</td>\n",
       "      <td>5</td>\n",
       "      <td>112976</td>\n",
       "      <td>9836</td>\n",
       "      <td>16</td>\n",
       "    </tr>\n",
       "    <tr>\n",
       "      <th>9</th>\n",
       "      <td>Sales Associate</td>\n",
       "      <td>Female</td>\n",
       "      <td>35</td>\n",
       "      <td>5</td>\n",
       "      <td>College</td>\n",
       "      <td>Engineering</td>\n",
       "      <td>5</td>\n",
       "      <td>106524</td>\n",
       "      <td>9941</td>\n",
       "      <td>15</td>\n",
       "    </tr>\n",
       "  </tbody>\n",
       "</table>\n",
       "</div>"
      ],
      "text/plain": [
       "              jobTitle  gender  age  perfEval          edu            dept  \\\n",
       "0     Graphic Designer  Female   18         5      College      Operations   \n",
       "1    Software Engineer    Male   21         5      College      Management   \n",
       "2  Warehouse Associate  Female   19         4          PhD  Administration   \n",
       "3    Software Engineer    Male   20         5      Masters           Sales   \n",
       "4     Graphic Designer    Male   26         5      Masters     Engineering   \n",
       "5                   IT  Female   20         5          PhD      Operations   \n",
       "6     Graphic Designer  Female   20         5      College           Sales   \n",
       "7    Software Engineer    Male   18         4          PhD     Engineering   \n",
       "8     Graphic Designer  Female   33         5  High School     Engineering   \n",
       "9      Sales Associate  Female   35         5      College     Engineering   \n",
       "\n",
       "   seniority  basePay  bonus  desc_len  \n",
       "0          2    42363   9938        16  \n",
       "1          5   108476  11128        17  \n",
       "2          5    90208   9268        19  \n",
       "3          4   108080  10154        17  \n",
       "4          5    99464   9319        16  \n",
       "5          4    70890  10126         2  \n",
       "6          4    67585  10541        16  \n",
       "7          5    97523  10240        17  \n",
       "8          5   112976   9836        16  \n",
       "9          5   106524   9941        15  "
      ]
     },
     "execution_count": 63,
     "metadata": {},
     "output_type": "execute_result"
    }
   ],
   "source": [
    "data_set.head(10)"
   ]
  },
  {
   "cell_type": "markdown",
   "id": "f7554e08-12c9-4abe-bf1f-dd237f9e6ca1",
   "metadata": {},
   "source": [
    "Rows and Columns"
   ]
  },
  {
   "cell_type": "code",
   "execution_count": 8,
   "id": "cdb9080e-26b4-4b5a-abbc-eb972cddf4be",
   "metadata": {},
   "outputs": [
    {
     "data": {
      "text/plain": [
       "(1000, 9)"
      ]
     },
     "execution_count": 8,
     "metadata": {},
     "output_type": "execute_result"
    }
   ],
   "source": [
    "data_set.shape"
   ]
  },
  {
   "cell_type": "code",
   "execution_count": 9,
   "id": "5c71e28d-6cd2-48c9-88af-8f42863a3e2c",
   "metadata": {},
   "outputs": [
    {
     "data": {
      "text/plain": [
       "Index(['jobTitle', 'gender', 'age', 'perfEval', 'edu', 'dept', 'seniority',\n",
       "       'basePay', 'bonus'],\n",
       "      dtype='object')"
      ]
     },
     "execution_count": 9,
     "metadata": {},
     "output_type": "execute_result"
    }
   ],
   "source": [
    "data_set.columns"
   ]
  },
  {
   "cell_type": "markdown",
   "id": "cdc89fe3-8d73-4781-9485-65b7cf33f459",
   "metadata": {},
   "source": [
    "Brief description of each attribute that appears in the dataset."
   ]
  },
  {
   "cell_type": "markdown",
   "id": "23d8eae4-31c2-40fb-a207-71884b0d8273",
   "metadata": {},
   "source": [
    "Attribute     \n",
    "Type            \n",
    "Description\n",
    "=========================================\n",
    "\n",
    "jobTitle\n",
    "Categorical     \n",
    "Position held by the worker\n",
    "\n",
    "gender        \n",
    "Categorical     \n",
    "The gender of the worker\n",
    "\n",
    "age           \n",
    "Numerical       \n",
    "The age of the worker\n",
    "\n",
    "perfEval      \n",
    "Categorical     \n",
    "Performance appraisal that the worker receives  \n",
    "\n",
    "edu           \n",
    "Categorical     \n",
    "Academic level of the worker\n",
    "\n",
    "dept          \n",
    "Categorical     \n",
    "Department in which the worker is placed \n",
    "\n",
    "seniority     \n",
    "Categorical     \n",
    "Seniority of the worker"
   ]
  },
  {
   "cell_type": "code",
   "execution_count": 10,
   "id": "71f706b0-4549-42cc-bc73-7503dd1513e6",
   "metadata": {},
   "outputs": [
    {
     "name": "stdout",
     "output_type": "stream",
     "text": [
      "completness value = jobTitle     100.0\n",
      "gender       100.0\n",
      "age          100.0\n",
      "perfEval     100.0\n",
      "edu          100.0\n",
      "dept         100.0\n",
      "seniority    100.0\n",
      "basePay      100.0\n",
      "bonus        100.0\n",
      "dtype: float64\n"
     ]
    }
   ],
   "source": [
    "cValues = data_set.count().sum()\n",
    "cNull = data_set.isnull().sum()\n",
    "nValues = cValues + cNull\n",
    "completness = cValues / nValues\n",
    "\n",
    "print(f'completness value = {completness * 100}')"
   ]
  },
  {
   "cell_type": "markdown",
   "id": "4a7ec1f2-c2be-4988-9a21-685559f78da4",
   "metadata": {},
   "source": [
    "After calculating the completeness I noticed that there are no missing values on the Data Set.\n",
    "\n",
    "If there were missing values on the data set I would have to define a new data set, removing all the records containing null values in the attributes because these can't contribute to our goal and it also helps reduce the size of the dataset."
   ]
  },
  {
   "cell_type": "markdown",
   "id": "517cacac-0e85-4b5a-811b-4dcc7b7982cb",
   "metadata": {},
   "source": [
    "Analysis of each attribute"
   ]
  },
  {
   "cell_type": "code",
   "execution_count": 11,
   "id": "3ef2d195-eac6-49dc-9861-b8041f8ff027",
   "metadata": {},
   "outputs": [
    {
     "data": {
      "text/plain": [
       "Marketing Associate    118\n",
       "Software Engineer      109\n",
       "Financial Analyst      107\n",
       "Data Scientist         107\n",
       "Graphic Designer        98\n",
       "IT                      96\n",
       "Sales Associate         94\n",
       "Driver                  91\n",
       "Warehouse Associate     90\n",
       "Manager                 90\n",
       "Name: jobTitle, dtype: int64"
      ]
     },
     "execution_count": 11,
     "metadata": {},
     "output_type": "execute_result"
    }
   ],
   "source": [
    "data_set.jobTitle.value_counts()"
   ]
  },
  {
   "cell_type": "code",
   "execution_count": 12,
   "id": "226def7f-6968-4be6-b8fd-7a01a6ec8107",
   "metadata": {},
   "outputs": [
    {
     "data": {
      "text/plain": [
       "Operations        210\n",
       "Sales             207\n",
       "Management        198\n",
       "Administration    193\n",
       "Engineering       192\n",
       "Name: dept, dtype: int64"
      ]
     },
     "execution_count": 12,
     "metadata": {},
     "output_type": "execute_result"
    }
   ],
   "source": [
    "data_set.dept.value_counts()"
   ]
  },
  {
   "cell_type": "code",
   "execution_count": 13,
   "id": "2edd0a0f-5286-4e79-b914-724cba825f35",
   "metadata": {},
   "outputs": [
    {
     "data": {
      "text/plain": [
       "3    219\n",
       "2    209\n",
       "1    195\n",
       "5    193\n",
       "4    184\n",
       "Name: seniority, dtype: int64"
      ]
     },
     "execution_count": 13,
     "metadata": {},
     "output_type": "execute_result"
    }
   ],
   "source": [
    "data_set.seniority.value_counts()"
   ]
  },
  {
   "cell_type": "code",
   "execution_count": 14,
   "id": "daa03a81-cc9d-40c0-bf5e-5e359a9d58ae",
   "metadata": {},
   "outputs": [
    {
     "data": {
      "text/plain": [
       "Male      532\n",
       "Female    468\n",
       "Name: gender, dtype: int64"
      ]
     },
     "execution_count": 14,
     "metadata": {},
     "output_type": "execute_result"
    }
   ],
   "source": [
    "data_set.gender.value_counts()"
   ]
  },
  {
   "cell_type": "code",
   "execution_count": 15,
   "id": "af99c646-045d-4eb6-9211-d4cd7cde6ab3",
   "metadata": {},
   "outputs": [
    {
     "data": {
      "text/plain": [
       "High School    265\n",
       "Masters        256\n",
       "College        241\n",
       "PhD            238\n",
       "Name: edu, dtype: int64"
      ]
     },
     "execution_count": 15,
     "metadata": {},
     "output_type": "execute_result"
    }
   ],
   "source": [
    "data_set.edu.value_counts()"
   ]
  },
  {
   "cell_type": "markdown",
   "id": "289249e4-981e-49df-b7d7-140b682fcec7",
   "metadata": {},
   "source": [
    "jobTitle description length "
   ]
  },
  {
   "cell_type": "code",
   "execution_count": 69,
   "id": "9fef94e6-8bee-46b3-81b7-67a460635d2b",
   "metadata": {},
   "outputs": [],
   "source": [
    "data_set['desc_len'] = data_set['jobTitle'].apply(lambda x: len(x))\n",
    "# data_set['desc_len']"
   ]
  },
  {
   "cell_type": "code",
   "execution_count": 17,
   "id": "1ff61217-84a2-4a41-a2f1-d7fecf44064c",
   "metadata": {},
   "outputs": [
    {
     "data": {
      "text/plain": [
       "<AxesSubplot:>"
      ]
     },
     "execution_count": 17,
     "metadata": {},
     "output_type": "execute_result"
    },
    {
     "data": {
      "image/png": "[encoded data removed]",
      "text/plain": [
       "<Figure size 432x288 with 1 Axes>"
      ]
     },
     "metadata": {
      "needs_background": "light"
     },
     "output_type": "display_data"
    }
   ],
   "source": [
    "data_set.age.hist()"
   ]
  },
  {
   "cell_type": "code",
   "execution_count": 18,
   "id": "0591646c-d59d-4e83-a730-de4ae0010955",
   "metadata": {},
   "outputs": [
    {
     "data": {
      "text/plain": [
       "<AxesSubplot:>"
      ]
     },
     "execution_count": 18,
     "metadata": {},
     "output_type": "execute_result"
    },
    {
     "data": {
      "image/png": "[encoded data removed]",
      "text/plain": [
       "<Figure size 432x288 with 1 Axes>"
      ]
     },
     "metadata": {
      "needs_background": "light"
     },
     "output_type": "display_data"
    }
   ],
   "source": [
    "data_set.gender.hist()"
   ]
  },
  {
   "cell_type": "code",
   "execution_count": 19,
   "id": "a8b80603-f3ef-4bb3-a8e5-e249134161b8",
   "metadata": {},
   "outputs": [
    {
     "data": {
      "text/plain": [
       "<AxesSubplot:>"
      ]
     },
     "execution_count": 19,
     "metadata": {},
     "output_type": "execute_result"
    },
    {
     "data": {
      "image/png": "[encoded data removed]",
      "text/plain": [
       "<Figure size 432x288 with 1 Axes>"
      ]
     },
     "metadata": {
      "needs_background": "light"
     },
     "output_type": "display_data"
    }
   ],
   "source": [
    "data_set.edu.hist()"
   ]
  },
  {
   "cell_type": "code",
   "execution_count": 20,
   "id": "144cae51-e678-4bb9-b308-d21225db9b18",
   "metadata": {},
   "outputs": [
    {
     "data": {
      "text/plain": [
       "<AxesSubplot:>"
      ]
     },
     "execution_count": 20,
     "metadata": {},
     "output_type": "execute_result"
    },
    {
     "data": {
      "image/png": "[encoded data removed]",
      "text/plain": [
       "<Figure size 432x288 with 1 Axes>"
      ]
     },
     "metadata": {
      "needs_background": "light"
     },
     "output_type": "display_data"
    }
   ],
   "source": [
    "data_set.dept.hist()"
   ]
  },
  {
   "cell_type": "code",
   "execution_count": 21,
   "id": "c268e40a-7b63-4675-bc08-ce6c15bfb078",
   "metadata": {},
   "outputs": [
    {
     "data": {
      "text/plain": [
       "<AxesSubplot:>"
      ]
     },
     "execution_count": 21,
     "metadata": {},
     "output_type": "execute_result"
    },
    {
     "data": {
      "image/png": "[encoded data removed]",
      "text/plain": [
       "<Figure size 432x288 with 1 Axes>"
      ]
     },
     "metadata": {
      "needs_background": "light"
     },
     "output_type": "display_data"
    }
   ],
   "source": [
    "data_set.seniority.hist()"
   ]
  },
  {
   "cell_type": "code",
   "execution_count": 22,
   "id": "64ce3841-553e-42ea-ba3b-bcc46bda7cdc",
   "metadata": {},
   "outputs": [
    {
     "data": {
      "text/plain": [
       "<AxesSubplot:>"
      ]
     },
     "execution_count": 22,
     "metadata": {},
     "output_type": "execute_result"
    },
    {
     "data": {
      "image/png": "[encoded data removed]",
      "text/plain": [
       "<Figure size 432x288 with 1 Axes>"
      ]
     },
     "metadata": {
      "needs_background": "light"
     },
     "output_type": "display_data"
    }
   ],
   "source": [
    "data_set.boxplot(column = ['age','basePay','bonus'])"
   ]
  },
  {
   "cell_type": "code",
   "execution_count": 23,
   "id": "76ddff87-3bff-4914-996d-7e680c9d8425",
   "metadata": {},
   "outputs": [
    {
     "data": {
      "text/plain": [
       "<AxesSubplot:>"
      ]
     },
     "execution_count": 23,
     "metadata": {},
     "output_type": "execute_result"
    },
    {
     "data": {
      "image/png": "[encoded data removed]",
      "text/plain": [
       "<Figure size 432x288 with 1 Axes>"
      ]
     },
     "metadata": {
      "needs_background": "light"
     },
     "output_type": "display_data"
    }
   ],
   "source": [
    "data_set.boxplot(column = 'age')"
   ]
  },
  {
   "cell_type": "code",
   "execution_count": 24,
   "id": "6efe3cd7-d107-4b58-a7a5-8a0e5e3607e0",
   "metadata": {},
   "outputs": [
    {
     "data": {
      "text/html": [
       "<div>\n",
       "<style scoped>\n",
       "    .dataframe tbody tr th:only-of-type {\n",
       "        vertical-align: middle;\n",
       "    }\n",
       "\n",
       "    .dataframe tbody tr th {\n",
       "        vertical-align: top;\n",
       "    }\n",
       "\n",
       "    .dataframe thead th {\n",
       "        text-align: right;\n",
       "    }\n",
       "</style>\n",
       "<table border=\"1\" class=\"dataframe\">\n",
       "  <thead>\n",
       "    <tr style=\"text-align: right;\">\n",
       "      <th></th>\n",
       "      <th>age</th>\n",
       "      <th>basePay</th>\n",
       "      <th>bonus</th>\n",
       "      <th>seniority</th>\n",
       "    </tr>\n",
       "  </thead>\n",
       "  <tbody>\n",
       "    <tr>\n",
       "      <th>age</th>\n",
       "      <td>1.000000</td>\n",
       "      <td>0.562681</td>\n",
       "      <td>-0.414337</td>\n",
       "      <td>-0.021414</td>\n",
       "    </tr>\n",
       "    <tr>\n",
       "      <th>basePay</th>\n",
       "      <td>0.562681</td>\n",
       "      <td>1.000000</td>\n",
       "      <td>-0.129481</td>\n",
       "      <td>0.511096</td>\n",
       "    </tr>\n",
       "    <tr>\n",
       "      <th>bonus</th>\n",
       "      <td>-0.414337</td>\n",
       "      <td>-0.129481</td>\n",
       "      <td>1.000000</td>\n",
       "      <td>0.194982</td>\n",
       "    </tr>\n",
       "    <tr>\n",
       "      <th>seniority</th>\n",
       "      <td>-0.021414</td>\n",
       "      <td>0.511096</td>\n",
       "      <td>0.194982</td>\n",
       "      <td>1.000000</td>\n",
       "    </tr>\n",
       "  </tbody>\n",
       "</table>\n",
       "</div>"
      ],
      "text/plain": [
       "                age   basePay     bonus  seniority\n",
       "age        1.000000  0.562681 -0.414337  -0.021414\n",
       "basePay    0.562681  1.000000 -0.129481   0.511096\n",
       "bonus     -0.414337 -0.129481  1.000000   0.194982\n",
       "seniority -0.021414  0.511096  0.194982   1.000000"
      ]
     },
     "execution_count": 24,
     "metadata": {},
     "output_type": "execute_result"
    }
   ],
   "source": [
    "data_set[['age','basePay','bonus','seniority']].corr()"
   ]
  },
  {
   "cell_type": "markdown",
   "id": "889c9c60-0daf-4a13-9b2b-85fb15843729",
   "metadata": {},
   "source": [
    "Data Set Correlation\n",
    "\n",
    "The correlation in the dataset isn't high in most of the considered pairs."
   ]
  },
  {
   "cell_type": "code",
   "execution_count": 76,
   "id": "ca89f7aa-7ba6-4926-bf6c-09c9261102a8",
   "metadata": {},
   "outputs": [
    {
     "data": {
      "text/plain": [
       "<AxesSubplot:>"
      ]
     },
     "execution_count": 76,
     "metadata": {},
     "output_type": "execute_result"
    },
    {
     "data": {
      "image/png": "[encoded data removed]",
      "text/plain": [
       "<Figure size 432x288 with 2 Axes>"
      ]
     },
     "metadata": {
      "needs_background": "light"
     },
     "output_type": "display_data"
    }
   ],
   "source": [
    "cmap = sns.diverging_palette(220, 10, as_cmap=True)\n",
    "sns.heatmap(data_set[['basePay','bonus','age','seniority']].corr(),vmax=.3, center=0, cmap=cmap,\n",
    "            square=True, annot=True, linewidths=.5, cbar_kws={\"shrink\": .5})"
   ]
  },
  {
   "cell_type": "code",
   "execution_count": 26,
   "id": "d8932c76-fd1c-4aeb-8fc4-155170452bec",
   "metadata": {},
   "outputs": [],
   "source": [
    "data_set_cat = data_set[['jobTitle','gender','edu','dept','seniority','perfEval','basePay','bonus']]"
   ]
  },
  {
   "cell_type": "markdown",
   "id": "40b3ca98-9a0d-4be4-9a5b-4e25f6da8755",
   "metadata": {},
   "source": [
    "Create a new dataset for subsequent clustering tasks"
   ]
  },
  {
   "cell_type": "code",
   "execution_count": 70,
   "id": "72d8babc-91ef-4108-9ddd-58aea6ece53b",
   "metadata": {},
   "outputs": [
    {
     "data": {
      "text/html": [
       "<div>\n",
       "<style scoped>\n",
       "    .dataframe tbody tr th:only-of-type {\n",
       "        vertical-align: middle;\n",
       "    }\n",
       "\n",
       "    .dataframe tbody tr th {\n",
       "        vertical-align: top;\n",
       "    }\n",
       "\n",
       "    .dataframe thead th {\n",
       "        text-align: right;\n",
       "    }\n",
       "</style>\n",
       "<table border=\"1\" class=\"dataframe\">\n",
       "  <thead>\n",
       "    <tr style=\"text-align: right;\">\n",
       "      <th></th>\n",
       "      <th>seniority</th>\n",
       "      <th>perfEval</th>\n",
       "      <th>basePay</th>\n",
       "      <th>bonus</th>\n",
       "    </tr>\n",
       "  </thead>\n",
       "  <tbody>\n",
       "    <tr>\n",
       "      <th>count</th>\n",
       "      <td>1000.000000</td>\n",
       "      <td>1000.000000</td>\n",
       "      <td>1000.000000</td>\n",
       "      <td>1000.000000</td>\n",
       "    </tr>\n",
       "    <tr>\n",
       "      <th>mean</th>\n",
       "      <td>2.971000</td>\n",
       "      <td>3.037000</td>\n",
       "      <td>94472.653000</td>\n",
       "      <td>6467.161000</td>\n",
       "    </tr>\n",
       "    <tr>\n",
       "      <th>std</th>\n",
       "      <td>1.395029</td>\n",
       "      <td>1.423959</td>\n",
       "      <td>25337.493272</td>\n",
       "      <td>2004.377365</td>\n",
       "    </tr>\n",
       "    <tr>\n",
       "      <th>min</th>\n",
       "      <td>1.000000</td>\n",
       "      <td>1.000000</td>\n",
       "      <td>34208.000000</td>\n",
       "      <td>1703.000000</td>\n",
       "    </tr>\n",
       "    <tr>\n",
       "      <th>25%</th>\n",
       "      <td>2.000000</td>\n",
       "      <td>2.000000</td>\n",
       "      <td>76850.250000</td>\n",
       "      <td>4849.500000</td>\n",
       "    </tr>\n",
       "    <tr>\n",
       "      <th>50%</th>\n",
       "      <td>3.000000</td>\n",
       "      <td>3.000000</td>\n",
       "      <td>93327.500000</td>\n",
       "      <td>6507.000000</td>\n",
       "    </tr>\n",
       "    <tr>\n",
       "      <th>75%</th>\n",
       "      <td>4.000000</td>\n",
       "      <td>4.000000</td>\n",
       "      <td>111558.000000</td>\n",
       "      <td>8026.000000</td>\n",
       "    </tr>\n",
       "    <tr>\n",
       "      <th>max</th>\n",
       "      <td>5.000000</td>\n",
       "      <td>5.000000</td>\n",
       "      <td>179726.000000</td>\n",
       "      <td>11293.000000</td>\n",
       "    </tr>\n",
       "  </tbody>\n",
       "</table>\n",
       "</div>"
      ],
      "text/plain": [
       "         seniority     perfEval        basePay         bonus\n",
       "count  1000.000000  1000.000000    1000.000000   1000.000000\n",
       "mean      2.971000     3.037000   94472.653000   6467.161000\n",
       "std       1.395029     1.423959   25337.493272   2004.377365\n",
       "min       1.000000     1.000000   34208.000000   1703.000000\n",
       "25%       2.000000     2.000000   76850.250000   4849.500000\n",
       "50%       3.000000     3.000000   93327.500000   6507.000000\n",
       "75%       4.000000     4.000000  111558.000000   8026.000000\n",
       "max       5.000000     5.000000  179726.000000  11293.000000"
      ]
     },
     "execution_count": 70,
     "metadata": {},
     "output_type": "execute_result"
    }
   ],
   "source": [
    "data_set_cat.describe()"
   ]
  },
  {
   "cell_type": "code",
   "execution_count": 27,
   "id": "aada40d9-a454-45dc-84e7-41b8b554fbf4",
   "metadata": {},
   "outputs": [
    {
     "name": "stdout",
     "output_type": "stream",
     "text": [
      "graph for jobTitle: total = 10\n"
     ]
    },
    {
     "data": {
      "image/png": "[encoded data removed]",
      "text/plain": [
       "<Figure size 432x288 with 1 Axes>"
      ]
     },
     "metadata": {
      "needs_background": "light"
     },
     "output_type": "display_data"
    },
    {
     "name": "stdout",
     "output_type": "stream",
     "text": [
      "graph for gender: total = 2\n"
     ]
    },
    {
     "data": {
      "image/png": "[encoded data removed]",
      "text/plain": [
       "<Figure size 432x288 with 1 Axes>"
      ]
     },
     "metadata": {
      "needs_background": "light"
     },
     "output_type": "display_data"
    },
    {
     "name": "stdout",
     "output_type": "stream",
     "text": [
      "graph for edu: total = 4\n"
     ]
    },
    {
     "data": {
      "image/png": "[encoded data removed]",
      "text/plain": [
       "<Figure size 432x288 with 1 Axes>"
      ]
     },
     "metadata": {
      "needs_background": "light"
     },
     "output_type": "display_data"
    },
    {
     "name": "stdout",
     "output_type": "stream",
     "text": [
      "graph for dept: total = 5\n"
     ]
    },
    {
     "data": {
      "image/png": "[encoded data removed]",
      "text/plain": [
       "<Figure size 432x288 with 1 Axes>"
      ]
     },
     "metadata": {
      "needs_background": "light"
     },
     "output_type": "display_data"
    },
    {
     "name": "stdout",
     "output_type": "stream",
     "text": [
      "graph for seniority: total = 5\n"
     ]
    },
    {
     "data": {
      "image/png": "[encoded data removed]",
      "text/plain": [
       "<Figure size 432x288 with 1 Axes>"
      ]
     },
     "metadata": {
      "needs_background": "light"
     },
     "output_type": "display_data"
    },
    {
     "name": "stdout",
     "output_type": "stream",
     "text": [
      "graph for perfEval: total = 5\n"
     ]
    },
    {
     "data": {
      "image/png": "[encoded data removed]",
      "text/plain": [
       "<Figure size 432x288 with 1 Axes>"
      ]
     },
     "metadata": {
      "needs_background": "light"
     },
     "output_type": "display_data"
    },
    {
     "name": "stdout",
     "output_type": "stream",
     "text": [
      "graph for basePay: total = 992\n"
     ]
    },
    {
     "data": {
      "image/png": "[encoded data removed]",
      "text/plain": [
       "<Figure size 432x288 with 1 Axes>"
      ]
     },
     "metadata": {
      "needs_background": "light"
     },
     "output_type": "display_data"
    },
    {
     "name": "stdout",
     "output_type": "stream",
     "text": [
      "graph for bonus: total = 941\n"
     ]
    },
    {
     "data": {
      "image/png": "[encoded data removed]",
      "text/plain": [
       "<Figure size 432x288 with 1 Axes>"
      ]
     },
     "metadata": {
      "needs_background": "light"
     },
     "output_type": "display_data"
    }
   ],
   "source": [
    "for i in data_set_cat.columns:\n",
    "    cat_num = data_set_cat[i].value_counts()\n",
    "    print(\"graph for %s: total = %d\" % (i, len(cat_num)))\n",
    "    chart = sns.barplot(x=cat_num.index, y=cat_num)\n",
    "    chart.set_xticklabels(chart.get_xticklabels(), rotation=90)\n",
    "    plt.show()"
   ]
  },
  {
   "cell_type": "code",
   "execution_count": 60,
   "id": "68e9615e-1ef3-4401-86a2-601935d33a84",
   "metadata": {},
   "outputs": [
    {
     "data": {
      "text/plain": [
       "<AxesSubplot:ylabel='dept'>"
      ]
     },
     "execution_count": 60,
     "metadata": {},
     "output_type": "execute_result"
    },
    {
     "data": {
      "image/png": "[encoded data removed]",
      "text/plain": [
       "<Figure size 1080x1080 with 4 Axes>"
      ]
     },
     "metadata": {},
     "output_type": "display_data"
    }
   ],
   "source": [
    "fig = plt.figure(figsize=(15, 15)) \n",
    "fig_dims = (3, 2)\n",
    "\n",
    "plt.subplot2grid(fig_dims, (0, 0))\n",
    "data_set['jobTitle'].value_counts().plot.pie(legend=True)\n",
    "\n",
    "plt.subplot2grid(fig_dims, (0, 1))\n",
    "data_set['gender'].value_counts().plot.pie(legend=True)\n",
    "\n",
    "plt.subplot2grid(fig_dims, (1, 0))\n",
    "data_set['edu'].value_counts().plot.pie(legend=True)\n",
    "\n",
    "plt.subplot2grid(fig_dims, (1, 1))\n",
    "data_set['dept'].value_counts().plot.pie(legend=True)\n"
   ]
  },
  {
   "cell_type": "code",
   "execution_count": 52,
   "id": "54943206-7da0-4bdd-a624-3e9c6670281a",
   "metadata": {},
   "outputs": [
    {
     "name": "stdout",
     "output_type": "stream",
     "text": [
      "graph for perfEval: total = 5\n"
     ]
    },
    {
     "data": {
      "image/png": "[encoded data removed]",
      "text/plain": [
       "<Figure size 432x288 with 1 Axes>"
      ]
     },
     "metadata": {
      "needs_background": "light"
     },
     "output_type": "display_data"
    },
    {
     "name": "stdout",
     "output_type": "stream",
     "text": [
      "graph for basePay: total = 20\n"
     ]
    },
    {
     "data": {
      "image/png": "[encoded data removed]",
      "text/plain": [
       "<Figure size 432x288 with 1 Axes>"
      ]
     },
     "metadata": {
      "needs_background": "light"
     },
     "output_type": "display_data"
    },
    {
     "name": "stdout",
     "output_type": "stream",
     "text": [
      "graph for bonus: total = 20\n"
     ]
    },
    {
     "data": {
      "image/png": "[encoded data removed]",
      "text/plain": [
       "<Figure size 432x288 with 1 Axes>"
      ]
     },
     "metadata": {
      "needs_background": "light"
     },
     "output_type": "display_data"
    }
   ],
   "source": [
    "for i in data_set_cat[['perfEval','basePay','bonus']].columns:\n",
    "    cat_num = data_set_cat[i].value_counts()[:20]\n",
    "    print(\"graph for %s: total = %d\" % (i, len(cat_num)))\n",
    "    chart = sns.barplot(x=cat_num.index, y=cat_num)\n",
    "    chart.set_xticklabels(chart.get_xticklabels(), rotation=90)\n",
    "    plt.show()"
   ]
  },
  {
   "cell_type": "code",
   "execution_count": 29,
   "id": "60c71ad5-1cbe-48d3-9c49-932dcc8312c8",
   "metadata": {},
   "outputs": [
    {
     "data": {
      "text/plain": [
       "Index(['jobTitle', 'gender', 'age', 'perfEval', 'edu', 'dept', 'seniority',\n",
       "       'basePay', 'bonus', 'desc_len'],\n",
       "      dtype='object')"
      ]
     },
     "execution_count": 29,
     "metadata": {},
     "output_type": "execute_result"
    }
   ],
   "source": [
    "data_set.columns"
   ]
  },
  {
   "cell_type": "code",
   "execution_count": 30,
   "id": "1ed6a894-41e1-44fc-a35b-40caafb8f58a",
   "metadata": {},
   "outputs": [
    {
     "data": {
      "text/html": [
       "<div>\n",
       "<style scoped>\n",
       "    .dataframe tbody tr th:only-of-type {\n",
       "        vertical-align: middle;\n",
       "    }\n",
       "\n",
       "    .dataframe tbody tr th {\n",
       "        vertical-align: top;\n",
       "    }\n",
       "\n",
       "    .dataframe thead th {\n",
       "        text-align: right;\n",
       "    }\n",
       "</style>\n",
       "<table border=\"1\" class=\"dataframe\">\n",
       "  <thead>\n",
       "    <tr style=\"text-align: right;\">\n",
       "      <th></th>\n",
       "      <th>basePay</th>\n",
       "    </tr>\n",
       "    <tr>\n",
       "      <th>jobTitle</th>\n",
       "      <th></th>\n",
       "    </tr>\n",
       "  </thead>\n",
       "  <tbody>\n",
       "    <tr>\n",
       "      <th>Data Scientist</th>\n",
       "      <td>92433.420561</td>\n",
       "    </tr>\n",
       "    <tr>\n",
       "      <th>Driver</th>\n",
       "      <td>89382.208791</td>\n",
       "    </tr>\n",
       "    <tr>\n",
       "      <th>Financial Analyst</th>\n",
       "      <td>94996.878505</td>\n",
       "    </tr>\n",
       "    <tr>\n",
       "      <th>Graphic Designer</th>\n",
       "      <td>90892.530612</td>\n",
       "    </tr>\n",
       "    <tr>\n",
       "      <th>IT</th>\n",
       "      <td>90737.468750</td>\n",
       "    </tr>\n",
       "    <tr>\n",
       "      <th>Manager</th>\n",
       "      <td>125329.600000</td>\n",
       "    </tr>\n",
       "    <tr>\n",
       "      <th>Marketing Associate</th>\n",
       "      <td>76656.372881</td>\n",
       "    </tr>\n",
       "    <tr>\n",
       "      <th>Sales Associate</th>\n",
       "      <td>93396.489362</td>\n",
       "    </tr>\n",
       "    <tr>\n",
       "      <th>Software Engineer</th>\n",
       "      <td>105514.935780</td>\n",
       "    </tr>\n",
       "    <tr>\n",
       "      <th>Warehouse Associate</th>\n",
       "      <td>89556.122222</td>\n",
       "    </tr>\n",
       "  </tbody>\n",
       "</table>\n",
       "</div>"
      ],
      "text/plain": [
       "                           basePay\n",
       "jobTitle                          \n",
       "Data Scientist        92433.420561\n",
       "Driver                89382.208791\n",
       "Financial Analyst     94996.878505\n",
       "Graphic Designer      90892.530612\n",
       "IT                    90737.468750\n",
       "Manager              125329.600000\n",
       "Marketing Associate   76656.372881\n",
       "Sales Associate       93396.489362\n",
       "Software Engineer    105514.935780\n",
       "Warehouse Associate   89556.122222"
      ]
     },
     "execution_count": 30,
     "metadata": {},
     "output_type": "execute_result"
    }
   ],
   "source": [
    "pd.pivot_table(data_set, index = 'jobTitle', values = 'basePay')"
   ]
  },
  {
   "cell_type": "code",
   "execution_count": 31,
   "id": "e4b3cf54-b115-44a8-9596-07ced7f1c305",
   "metadata": {},
   "outputs": [
    {
     "data": {
      "text/html": [
       "<div>\n",
       "<style scoped>\n",
       "    .dataframe tbody tr th:only-of-type {\n",
       "        vertical-align: middle;\n",
       "    }\n",
       "\n",
       "    .dataframe tbody tr th {\n",
       "        vertical-align: top;\n",
       "    }\n",
       "\n",
       "    .dataframe thead th {\n",
       "        text-align: right;\n",
       "    }\n",
       "</style>\n",
       "<table border=\"1\" class=\"dataframe\">\n",
       "  <thead>\n",
       "    <tr style=\"text-align: right;\">\n",
       "      <th></th>\n",
       "      <th>bonus</th>\n",
       "    </tr>\n",
       "    <tr>\n",
       "      <th>seniority</th>\n",
       "      <th></th>\n",
       "    </tr>\n",
       "  </thead>\n",
       "  <tbody>\n",
       "    <tr>\n",
       "      <th>1</th>\n",
       "      <td>6030.041026</td>\n",
       "    </tr>\n",
       "    <tr>\n",
       "      <th>2</th>\n",
       "      <td>6093.349282</td>\n",
       "    </tr>\n",
       "    <tr>\n",
       "      <th>3</th>\n",
       "      <td>6393.584475</td>\n",
       "    </tr>\n",
       "    <tr>\n",
       "      <th>4</th>\n",
       "      <td>6809.032609</td>\n",
       "    </tr>\n",
       "    <tr>\n",
       "      <th>5</th>\n",
       "      <td>7071.170984</td>\n",
       "    </tr>\n",
       "  </tbody>\n",
       "</table>\n",
       "</div>"
      ],
      "text/plain": [
       "                 bonus\n",
       "seniority             \n",
       "1          6030.041026\n",
       "2          6093.349282\n",
       "3          6393.584475\n",
       "4          6809.032609\n",
       "5          7071.170984"
      ]
     },
     "execution_count": 31,
     "metadata": {},
     "output_type": "execute_result"
    }
   ],
   "source": [
    "pd.pivot_table(data_set, index = 'seniority', values = 'bonus')"
   ]
  },
  {
   "cell_type": "markdown",
   "id": "f736c66f-acc7-41af-a4e0-d913cff30940",
   "metadata": {},
   "source": [
    "As the table shows, the higher the seniority, the higher the bonus the worker earns.\n",
    "\n",
    "The same applies in the table below, regardless of the profession."
   ]
  },
  {
   "cell_type": "code",
   "execution_count": 32,
   "id": "9de8ea02-ec86-41e8-8549-bfeb8dab1005",
   "metadata": {},
   "outputs": [
    {
     "data": {
      "text/html": [
       "<div>\n",
       "<style scoped>\n",
       "    .dataframe tbody tr th:only-of-type {\n",
       "        vertical-align: middle;\n",
       "    }\n",
       "\n",
       "    .dataframe tbody tr th {\n",
       "        vertical-align: top;\n",
       "    }\n",
       "\n",
       "    .dataframe thead th {\n",
       "        text-align: right;\n",
       "    }\n",
       "</style>\n",
       "<table border=\"1\" class=\"dataframe\">\n",
       "  <thead>\n",
       "    <tr style=\"text-align: right;\">\n",
       "      <th></th>\n",
       "      <th></th>\n",
       "      <th>basePay</th>\n",
       "    </tr>\n",
       "    <tr>\n",
       "      <th>jobTitle</th>\n",
       "      <th>seniority</th>\n",
       "      <th></th>\n",
       "    </tr>\n",
       "  </thead>\n",
       "  <tbody>\n",
       "    <tr>\n",
       "      <th rowspan=\"5\" valign=\"top\">Data Scientist</th>\n",
       "      <th>1</th>\n",
       "      <td>76303.722222</td>\n",
       "    </tr>\n",
       "    <tr>\n",
       "      <th>2</th>\n",
       "      <td>86133.481481</td>\n",
       "    </tr>\n",
       "    <tr>\n",
       "      <th>3</th>\n",
       "      <td>90561.259259</td>\n",
       "    </tr>\n",
       "    <tr>\n",
       "      <th>4</th>\n",
       "      <td>96512.333333</td>\n",
       "    </tr>\n",
       "    <tr>\n",
       "      <th>5</th>\n",
       "      <td>112521.869565</td>\n",
       "    </tr>\n",
       "    <tr>\n",
       "      <th rowspan=\"5\" valign=\"top\">Driver</th>\n",
       "      <th>1</th>\n",
       "      <td>72012.000000</td>\n",
       "    </tr>\n",
       "    <tr>\n",
       "      <th>2</th>\n",
       "      <td>82766.392857</td>\n",
       "    </tr>\n",
       "    <tr>\n",
       "      <th>3</th>\n",
       "      <td>86949.058824</td>\n",
       "    </tr>\n",
       "    <tr>\n",
       "      <th>4</th>\n",
       "      <td>100153.333333</td>\n",
       "    </tr>\n",
       "    <tr>\n",
       "      <th>5</th>\n",
       "      <td>105448.000000</td>\n",
       "    </tr>\n",
       "    <tr>\n",
       "      <th rowspan=\"5\" valign=\"top\">Financial Analyst</th>\n",
       "      <th>1</th>\n",
       "      <td>82548.619048</td>\n",
       "    </tr>\n",
       "    <tr>\n",
       "      <th>2</th>\n",
       "      <td>79536.181818</td>\n",
       "    </tr>\n",
       "    <tr>\n",
       "      <th>3</th>\n",
       "      <td>95220.500000</td>\n",
       "    </tr>\n",
       "    <tr>\n",
       "      <th>4</th>\n",
       "      <td>104924.000000</td>\n",
       "    </tr>\n",
       "    <tr>\n",
       "      <th>5</th>\n",
       "      <td>116154.625000</td>\n",
       "    </tr>\n",
       "    <tr>\n",
       "      <th rowspan=\"5\" valign=\"top\">Graphic Designer</th>\n",
       "      <th>1</th>\n",
       "      <td>72575.947368</td>\n",
       "    </tr>\n",
       "    <tr>\n",
       "      <th>2</th>\n",
       "      <td>73931.562500</td>\n",
       "    </tr>\n",
       "    <tr>\n",
       "      <th>3</th>\n",
       "      <td>87274.117647</td>\n",
       "    </tr>\n",
       "    <tr>\n",
       "      <th>4</th>\n",
       "      <td>102081.555556</td>\n",
       "    </tr>\n",
       "    <tr>\n",
       "      <th>5</th>\n",
       "      <td>110829.368421</td>\n",
       "    </tr>\n",
       "    <tr>\n",
       "      <th rowspan=\"5\" valign=\"top\">IT</th>\n",
       "      <th>1</th>\n",
       "      <td>66767.619048</td>\n",
       "    </tr>\n",
       "    <tr>\n",
       "      <th>2</th>\n",
       "      <td>83390.388889</td>\n",
       "    </tr>\n",
       "    <tr>\n",
       "      <th>3</th>\n",
       "      <td>91533.680000</td>\n",
       "    </tr>\n",
       "    <tr>\n",
       "      <th>4</th>\n",
       "      <td>99752.375000</td>\n",
       "    </tr>\n",
       "    <tr>\n",
       "      <th>5</th>\n",
       "      <td>120204.375000</td>\n",
       "    </tr>\n",
       "    <tr>\n",
       "      <th rowspan=\"5\" valign=\"top\">Manager</th>\n",
       "      <th>1</th>\n",
       "      <td>110344.842105</td>\n",
       "    </tr>\n",
       "    <tr>\n",
       "      <th>2</th>\n",
       "      <td>117360.210526</td>\n",
       "    </tr>\n",
       "    <tr>\n",
       "      <th>3</th>\n",
       "      <td>126052.250000</td>\n",
       "    </tr>\n",
       "    <tr>\n",
       "      <th>4</th>\n",
       "      <td>137701.866667</td>\n",
       "    </tr>\n",
       "    <tr>\n",
       "      <th>5</th>\n",
       "      <td>139217.352941</td>\n",
       "    </tr>\n",
       "    <tr>\n",
       "      <th rowspan=\"5\" valign=\"top\">Marketing Associate</th>\n",
       "      <th>1</th>\n",
       "      <td>58278.440000</td>\n",
       "    </tr>\n",
       "    <tr>\n",
       "      <th>2</th>\n",
       "      <td>63047.150000</td>\n",
       "    </tr>\n",
       "    <tr>\n",
       "      <th>3</th>\n",
       "      <td>78485.321429</td>\n",
       "    </tr>\n",
       "    <tr>\n",
       "      <th>4</th>\n",
       "      <td>85994.066667</td>\n",
       "    </tr>\n",
       "    <tr>\n",
       "      <th>5</th>\n",
       "      <td>94668.266667</td>\n",
       "    </tr>\n",
       "    <tr>\n",
       "      <th rowspan=\"5\" valign=\"top\">Sales Associate</th>\n",
       "      <th>1</th>\n",
       "      <td>71658.294118</td>\n",
       "    </tr>\n",
       "    <tr>\n",
       "      <th>2</th>\n",
       "      <td>86673.684211</td>\n",
       "    </tr>\n",
       "    <tr>\n",
       "      <th>3</th>\n",
       "      <td>96128.000000</td>\n",
       "    </tr>\n",
       "    <tr>\n",
       "      <th>4</th>\n",
       "      <td>101416.571429</td>\n",
       "    </tr>\n",
       "    <tr>\n",
       "      <th>5</th>\n",
       "      <td>110839.944444</td>\n",
       "    </tr>\n",
       "    <tr>\n",
       "      <th rowspan=\"5\" valign=\"top\">Software Engineer</th>\n",
       "      <th>1</th>\n",
       "      <td>88709.148148</td>\n",
       "    </tr>\n",
       "    <tr>\n",
       "      <th>2</th>\n",
       "      <td>94136.736842</td>\n",
       "    </tr>\n",
       "    <tr>\n",
       "      <th>3</th>\n",
       "      <td>109512.250000</td>\n",
       "    </tr>\n",
       "    <tr>\n",
       "      <th>4</th>\n",
       "      <td>108676.809524</td>\n",
       "    </tr>\n",
       "    <tr>\n",
       "      <th>5</th>\n",
       "      <td>129314.772727</td>\n",
       "    </tr>\n",
       "    <tr>\n",
       "      <th rowspan=\"5\" valign=\"top\">Warehouse Associate</th>\n",
       "      <th>1</th>\n",
       "      <td>66551.437500</td>\n",
       "    </tr>\n",
       "    <tr>\n",
       "      <th>2</th>\n",
       "      <td>80327.190476</td>\n",
       "    </tr>\n",
       "    <tr>\n",
       "      <th>3</th>\n",
       "      <td>90382.000000</td>\n",
       "    </tr>\n",
       "    <tr>\n",
       "      <th>4</th>\n",
       "      <td>103751.764706</td>\n",
       "    </tr>\n",
       "    <tr>\n",
       "      <th>5</th>\n",
       "      <td>105688.578947</td>\n",
       "    </tr>\n",
       "  </tbody>\n",
       "</table>\n",
       "</div>"
      ],
      "text/plain": [
       "                                     basePay\n",
       "jobTitle            seniority               \n",
       "Data Scientist      1           76303.722222\n",
       "                    2           86133.481481\n",
       "                    3           90561.259259\n",
       "                    4           96512.333333\n",
       "                    5          112521.869565\n",
       "Driver              1           72012.000000\n",
       "                    2           82766.392857\n",
       "                    3           86949.058824\n",
       "                    4          100153.333333\n",
       "                    5          105448.000000\n",
       "Financial Analyst   1           82548.619048\n",
       "                    2           79536.181818\n",
       "                    3           95220.500000\n",
       "                    4          104924.000000\n",
       "                    5          116154.625000\n",
       "Graphic Designer    1           72575.947368\n",
       "                    2           73931.562500\n",
       "                    3           87274.117647\n",
       "                    4          102081.555556\n",
       "                    5          110829.368421\n",
       "IT                  1           66767.619048\n",
       "                    2           83390.388889\n",
       "                    3           91533.680000\n",
       "                    4           99752.375000\n",
       "                    5          120204.375000\n",
       "Manager             1          110344.842105\n",
       "                    2          117360.210526\n",
       "                    3          126052.250000\n",
       "                    4          137701.866667\n",
       "                    5          139217.352941\n",
       "Marketing Associate 1           58278.440000\n",
       "                    2           63047.150000\n",
       "                    3           78485.321429\n",
       "                    4           85994.066667\n",
       "                    5           94668.266667\n",
       "Sales Associate     1           71658.294118\n",
       "                    2           86673.684211\n",
       "                    3           96128.000000\n",
       "                    4          101416.571429\n",
       "                    5          110839.944444\n",
       "Software Engineer   1           88709.148148\n",
       "                    2           94136.736842\n",
       "                    3          109512.250000\n",
       "                    4          108676.809524\n",
       "                    5          129314.772727\n",
       "Warehouse Associate 1           66551.437500\n",
       "                    2           80327.190476\n",
       "                    3           90382.000000\n",
       "                    4          103751.764706\n",
       "                    5          105688.578947"
      ]
     },
     "execution_count": 32,
     "metadata": {},
     "output_type": "execute_result"
    }
   ],
   "source": [
    "pd.pivot_table(data_set, index = ['jobTitle','seniority'], values = 'basePay')"
   ]
  },
  {
   "cell_type": "code",
   "execution_count": 33,
   "id": "a33f173f-e37c-468e-954f-8100a14d49e7",
   "metadata": {},
   "outputs": [],
   "source": [
    "pd.options.display.max_rows\n",
    "pd.set_option('display.max_rows', None)"
   ]
  },
  {
   "cell_type": "markdown",
   "id": "483d1aa9-ee1a-44d2-bd55-ba1eeed94a75",
   "metadata": {},
   "source": [
    "Organized in departments, the male gender is the most paid in all.\n",
    "\n",
    "But when it is organized into professions, the female gender is the most paid in most cases."
   ]
  },
  {
   "cell_type": "code",
   "execution_count": 34,
   "id": "e79a9f3a-77a1-44d6-bf14-50fd433e5973",
   "metadata": {},
   "outputs": [
    {
     "data": {
      "text/html": [
       "<div>\n",
       "<style scoped>\n",
       "    .dataframe tbody tr th:only-of-type {\n",
       "        vertical-align: middle;\n",
       "    }\n",
       "\n",
       "    .dataframe tbody tr th {\n",
       "        vertical-align: top;\n",
       "    }\n",
       "\n",
       "    .dataframe thead th {\n",
       "        text-align: right;\n",
       "    }\n",
       "</style>\n",
       "<table border=\"1\" class=\"dataframe\">\n",
       "  <thead>\n",
       "    <tr style=\"text-align: right;\">\n",
       "      <th></th>\n",
       "      <th></th>\n",
       "      <th>basePay</th>\n",
       "    </tr>\n",
       "    <tr>\n",
       "      <th>dept</th>\n",
       "      <th>gender</th>\n",
       "      <th></th>\n",
       "    </tr>\n",
       "  </thead>\n",
       "  <tbody>\n",
       "    <tr>\n",
       "      <th rowspan=\"2\" valign=\"top\">Administration</th>\n",
       "      <th>Female</th>\n",
       "      <td>95</td>\n",
       "    </tr>\n",
       "    <tr>\n",
       "      <th>Male</th>\n",
       "      <td>98</td>\n",
       "    </tr>\n",
       "    <tr>\n",
       "      <th rowspan=\"2\" valign=\"top\">Engineering</th>\n",
       "      <th>Female</th>\n",
       "      <td>89</td>\n",
       "    </tr>\n",
       "    <tr>\n",
       "      <th>Male</th>\n",
       "      <td>103</td>\n",
       "    </tr>\n",
       "    <tr>\n",
       "      <th rowspan=\"2\" valign=\"top\">Management</th>\n",
       "      <th>Female</th>\n",
       "      <td>87</td>\n",
       "    </tr>\n",
       "    <tr>\n",
       "      <th>Male</th>\n",
       "      <td>111</td>\n",
       "    </tr>\n",
       "    <tr>\n",
       "      <th rowspan=\"2\" valign=\"top\">Operations</th>\n",
       "      <th>Female</th>\n",
       "      <td>96</td>\n",
       "    </tr>\n",
       "    <tr>\n",
       "      <th>Male</th>\n",
       "      <td>114</td>\n",
       "    </tr>\n",
       "    <tr>\n",
       "      <th rowspan=\"2\" valign=\"top\">Sales</th>\n",
       "      <th>Female</th>\n",
       "      <td>101</td>\n",
       "    </tr>\n",
       "    <tr>\n",
       "      <th>Male</th>\n",
       "      <td>106</td>\n",
       "    </tr>\n",
       "  </tbody>\n",
       "</table>\n",
       "</div>"
      ],
      "text/plain": [
       "                       basePay\n",
       "dept           gender         \n",
       "Administration Female       95\n",
       "               Male         98\n",
       "Engineering    Female       89\n",
       "               Male        103\n",
       "Management     Female       87\n",
       "               Male        111\n",
       "Operations     Female       96\n",
       "               Male        114\n",
       "Sales          Female      101\n",
       "               Male        106"
      ]
     },
     "execution_count": 34,
     "metadata": {},
     "output_type": "execute_result"
    }
   ],
   "source": [
    "pd.pivot_table(data_set, index = ['dept','gender'], values = 'basePay', aggfunc = 'count')"
   ]
  },
  {
   "cell_type": "code",
   "execution_count": 35,
   "id": "a0dcc530-d305-4cf4-af0d-53b001d38b80",
   "metadata": {},
   "outputs": [
    {
     "data": {
      "text/html": [
       "<div>\n",
       "<style scoped>\n",
       "    .dataframe tbody tr th:only-of-type {\n",
       "        vertical-align: middle;\n",
       "    }\n",
       "\n",
       "    .dataframe tbody tr th {\n",
       "        vertical-align: top;\n",
       "    }\n",
       "\n",
       "    .dataframe thead th {\n",
       "        text-align: right;\n",
       "    }\n",
       "</style>\n",
       "<table border=\"1\" class=\"dataframe\">\n",
       "  <thead>\n",
       "    <tr style=\"text-align: right;\">\n",
       "      <th></th>\n",
       "      <th></th>\n",
       "      <th>basePay</th>\n",
       "    </tr>\n",
       "    <tr>\n",
       "      <th>jobTitle</th>\n",
       "      <th>gender</th>\n",
       "      <th></th>\n",
       "    </tr>\n",
       "  </thead>\n",
       "  <tbody>\n",
       "    <tr>\n",
       "      <th rowspan=\"2\" valign=\"top\">Data Scientist</th>\n",
       "      <th>Female</th>\n",
       "      <td>53</td>\n",
       "    </tr>\n",
       "    <tr>\n",
       "      <th>Male</th>\n",
       "      <td>54</td>\n",
       "    </tr>\n",
       "    <tr>\n",
       "      <th rowspan=\"2\" valign=\"top\">Driver</th>\n",
       "      <th>Female</th>\n",
       "      <td>46</td>\n",
       "    </tr>\n",
       "    <tr>\n",
       "      <th>Male</th>\n",
       "      <td>45</td>\n",
       "    </tr>\n",
       "    <tr>\n",
       "      <th rowspan=\"2\" valign=\"top\">Financial Analyst</th>\n",
       "      <th>Female</th>\n",
       "      <td>49</td>\n",
       "    </tr>\n",
       "    <tr>\n",
       "      <th>Male</th>\n",
       "      <td>58</td>\n",
       "    </tr>\n",
       "    <tr>\n",
       "      <th rowspan=\"2\" valign=\"top\">Graphic Designer</th>\n",
       "      <th>Female</th>\n",
       "      <td>48</td>\n",
       "    </tr>\n",
       "    <tr>\n",
       "      <th>Male</th>\n",
       "      <td>50</td>\n",
       "    </tr>\n",
       "    <tr>\n",
       "      <th rowspan=\"2\" valign=\"top\">IT</th>\n",
       "      <th>Female</th>\n",
       "      <td>50</td>\n",
       "    </tr>\n",
       "    <tr>\n",
       "      <th>Male</th>\n",
       "      <td>46</td>\n",
       "    </tr>\n",
       "    <tr>\n",
       "      <th rowspan=\"2\" valign=\"top\">Manager</th>\n",
       "      <th>Female</th>\n",
       "      <td>18</td>\n",
       "    </tr>\n",
       "    <tr>\n",
       "      <th>Male</th>\n",
       "      <td>72</td>\n",
       "    </tr>\n",
       "    <tr>\n",
       "      <th rowspan=\"2\" valign=\"top\">Marketing Associate</th>\n",
       "      <th>Female</th>\n",
       "      <td>107</td>\n",
       "    </tr>\n",
       "    <tr>\n",
       "      <th>Male</th>\n",
       "      <td>11</td>\n",
       "    </tr>\n",
       "    <tr>\n",
       "      <th rowspan=\"2\" valign=\"top\">Sales Associate</th>\n",
       "      <th>Female</th>\n",
       "      <td>43</td>\n",
       "    </tr>\n",
       "    <tr>\n",
       "      <th>Male</th>\n",
       "      <td>51</td>\n",
       "    </tr>\n",
       "    <tr>\n",
       "      <th rowspan=\"2\" valign=\"top\">Software Engineer</th>\n",
       "      <th>Female</th>\n",
       "      <td>8</td>\n",
       "    </tr>\n",
       "    <tr>\n",
       "      <th>Male</th>\n",
       "      <td>101</td>\n",
       "    </tr>\n",
       "    <tr>\n",
       "      <th rowspan=\"2\" valign=\"top\">Warehouse Associate</th>\n",
       "      <th>Female</th>\n",
       "      <td>46</td>\n",
       "    </tr>\n",
       "    <tr>\n",
       "      <th>Male</th>\n",
       "      <td>44</td>\n",
       "    </tr>\n",
       "  </tbody>\n",
       "</table>\n",
       "</div>"
      ],
      "text/plain": [
       "                            basePay\n",
       "jobTitle            gender         \n",
       "Data Scientist      Female       53\n",
       "                    Male         54\n",
       "Driver              Female       46\n",
       "                    Male         45\n",
       "Financial Analyst   Female       49\n",
       "                    Male         58\n",
       "Graphic Designer    Female       48\n",
       "                    Male         50\n",
       "IT                  Female       50\n",
       "                    Male         46\n",
       "Manager             Female       18\n",
       "                    Male         72\n",
       "Marketing Associate Female      107\n",
       "                    Male         11\n",
       "Sales Associate     Female       43\n",
       "                    Male         51\n",
       "Software Engineer   Female        8\n",
       "                    Male        101\n",
       "Warehouse Associate Female       46\n",
       "                    Male         44"
      ]
     },
     "execution_count": 35,
     "metadata": {},
     "output_type": "execute_result"
    }
   ],
   "source": [
    "pd.pivot_table(data_set, index = ['jobTitle','gender'], values = 'basePay', aggfunc = 'count')"
   ]
  },
  {
   "cell_type": "code",
   "execution_count": 36,
   "id": "49e9b1ac-8294-4e7e-bf38-a36a7d581428",
   "metadata": {},
   "outputs": [
    {
     "data": {
      "text/html": [
       "<div>\n",
       "<style scoped>\n",
       "    .dataframe tbody tr th:only-of-type {\n",
       "        vertical-align: middle;\n",
       "    }\n",
       "\n",
       "    .dataframe tbody tr th {\n",
       "        vertical-align: top;\n",
       "    }\n",
       "\n",
       "    .dataframe thead th {\n",
       "        text-align: right;\n",
       "    }\n",
       "</style>\n",
       "<table border=\"1\" class=\"dataframe\">\n",
       "  <thead>\n",
       "    <tr style=\"text-align: right;\">\n",
       "      <th></th>\n",
       "      <th></th>\n",
       "      <th>basePay</th>\n",
       "    </tr>\n",
       "    <tr>\n",
       "      <th>dept</th>\n",
       "      <th>jobTitle</th>\n",
       "      <th></th>\n",
       "    </tr>\n",
       "  </thead>\n",
       "  <tbody>\n",
       "    <tr>\n",
       "      <th rowspan=\"10\" valign=\"top\">Administration</th>\n",
       "      <th>Data Scientist</th>\n",
       "      <td>25</td>\n",
       "    </tr>\n",
       "    <tr>\n",
       "      <th>Driver</th>\n",
       "      <td>17</td>\n",
       "    </tr>\n",
       "    <tr>\n",
       "      <th>Financial Analyst</th>\n",
       "      <td>26</td>\n",
       "    </tr>\n",
       "    <tr>\n",
       "      <th>Graphic Designer</th>\n",
       "      <td>15</td>\n",
       "    </tr>\n",
       "    <tr>\n",
       "      <th>IT</th>\n",
       "      <td>17</td>\n",
       "    </tr>\n",
       "    <tr>\n",
       "      <th>Manager</th>\n",
       "      <td>12</td>\n",
       "    </tr>\n",
       "    <tr>\n",
       "      <th>Marketing Associate</th>\n",
       "      <td>25</td>\n",
       "    </tr>\n",
       "    <tr>\n",
       "      <th>Sales Associate</th>\n",
       "      <td>17</td>\n",
       "    </tr>\n",
       "    <tr>\n",
       "      <th>Software Engineer</th>\n",
       "      <td>18</td>\n",
       "    </tr>\n",
       "    <tr>\n",
       "      <th>Warehouse Associate</th>\n",
       "      <td>21</td>\n",
       "    </tr>\n",
       "    <tr>\n",
       "      <th rowspan=\"10\" valign=\"top\">Engineering</th>\n",
       "      <th>Data Scientist</th>\n",
       "      <td>18</td>\n",
       "    </tr>\n",
       "    <tr>\n",
       "      <th>Driver</th>\n",
       "      <td>18</td>\n",
       "    </tr>\n",
       "    <tr>\n",
       "      <th>Financial Analyst</th>\n",
       "      <td>21</td>\n",
       "    </tr>\n",
       "    <tr>\n",
       "      <th>Graphic Designer</th>\n",
       "      <td>22</td>\n",
       "    </tr>\n",
       "    <tr>\n",
       "      <th>IT</th>\n",
       "      <td>15</td>\n",
       "    </tr>\n",
       "    <tr>\n",
       "      <th>Manager</th>\n",
       "      <td>15</td>\n",
       "    </tr>\n",
       "    <tr>\n",
       "      <th>Marketing Associate</th>\n",
       "      <td>19</td>\n",
       "    </tr>\n",
       "    <tr>\n",
       "      <th>Sales Associate</th>\n",
       "      <td>18</td>\n",
       "    </tr>\n",
       "    <tr>\n",
       "      <th>Software Engineer</th>\n",
       "      <td>25</td>\n",
       "    </tr>\n",
       "    <tr>\n",
       "      <th>Warehouse Associate</th>\n",
       "      <td>21</td>\n",
       "    </tr>\n",
       "    <tr>\n",
       "      <th rowspan=\"10\" valign=\"top\">Management</th>\n",
       "      <th>Data Scientist</th>\n",
       "      <td>18</td>\n",
       "    </tr>\n",
       "    <tr>\n",
       "      <th>Driver</th>\n",
       "      <td>19</td>\n",
       "    </tr>\n",
       "    <tr>\n",
       "      <th>Financial Analyst</th>\n",
       "      <td>14</td>\n",
       "    </tr>\n",
       "    <tr>\n",
       "      <th>Graphic Designer</th>\n",
       "      <td>19</td>\n",
       "    </tr>\n",
       "    <tr>\n",
       "      <th>IT</th>\n",
       "      <td>21</td>\n",
       "    </tr>\n",
       "    <tr>\n",
       "      <th>Manager</th>\n",
       "      <td>26</td>\n",
       "    </tr>\n",
       "    <tr>\n",
       "      <th>Marketing Associate</th>\n",
       "      <td>17</td>\n",
       "    </tr>\n",
       "    <tr>\n",
       "      <th>Sales Associate</th>\n",
       "      <td>24</td>\n",
       "    </tr>\n",
       "    <tr>\n",
       "      <th>Software Engineer</th>\n",
       "      <td>25</td>\n",
       "    </tr>\n",
       "    <tr>\n",
       "      <th>Warehouse Associate</th>\n",
       "      <td>15</td>\n",
       "    </tr>\n",
       "    <tr>\n",
       "      <th rowspan=\"10\" valign=\"top\">Operations</th>\n",
       "      <th>Data Scientist</th>\n",
       "      <td>24</td>\n",
       "    </tr>\n",
       "    <tr>\n",
       "      <th>Driver</th>\n",
       "      <td>17</td>\n",
       "    </tr>\n",
       "    <tr>\n",
       "      <th>Financial Analyst</th>\n",
       "      <td>31</td>\n",
       "    </tr>\n",
       "    <tr>\n",
       "      <th>Graphic Designer</th>\n",
       "      <td>23</td>\n",
       "    </tr>\n",
       "    <tr>\n",
       "      <th>IT</th>\n",
       "      <td>19</td>\n",
       "    </tr>\n",
       "    <tr>\n",
       "      <th>Manager</th>\n",
       "      <td>18</td>\n",
       "    </tr>\n",
       "    <tr>\n",
       "      <th>Marketing Associate</th>\n",
       "      <td>21</td>\n",
       "    </tr>\n",
       "    <tr>\n",
       "      <th>Sales Associate</th>\n",
       "      <td>20</td>\n",
       "    </tr>\n",
       "    <tr>\n",
       "      <th>Software Engineer</th>\n",
       "      <td>19</td>\n",
       "    </tr>\n",
       "    <tr>\n",
       "      <th>Warehouse Associate</th>\n",
       "      <td>18</td>\n",
       "    </tr>\n",
       "    <tr>\n",
       "      <th rowspan=\"10\" valign=\"top\">Sales</th>\n",
       "      <th>Data Scientist</th>\n",
       "      <td>22</td>\n",
       "    </tr>\n",
       "    <tr>\n",
       "      <th>Driver</th>\n",
       "      <td>20</td>\n",
       "    </tr>\n",
       "    <tr>\n",
       "      <th>Financial Analyst</th>\n",
       "      <td>15</td>\n",
       "    </tr>\n",
       "    <tr>\n",
       "      <th>Graphic Designer</th>\n",
       "      <td>19</td>\n",
       "    </tr>\n",
       "    <tr>\n",
       "      <th>IT</th>\n",
       "      <td>24</td>\n",
       "    </tr>\n",
       "    <tr>\n",
       "      <th>Manager</th>\n",
       "      <td>19</td>\n",
       "    </tr>\n",
       "    <tr>\n",
       "      <th>Marketing Associate</th>\n",
       "      <td>36</td>\n",
       "    </tr>\n",
       "    <tr>\n",
       "      <th>Sales Associate</th>\n",
       "      <td>15</td>\n",
       "    </tr>\n",
       "    <tr>\n",
       "      <th>Software Engineer</th>\n",
       "      <td>22</td>\n",
       "    </tr>\n",
       "    <tr>\n",
       "      <th>Warehouse Associate</th>\n",
       "      <td>15</td>\n",
       "    </tr>\n",
       "  </tbody>\n",
       "</table>\n",
       "</div>"
      ],
      "text/plain": [
       "                                    basePay\n",
       "dept           jobTitle                    \n",
       "Administration Data Scientist            25\n",
       "               Driver                    17\n",
       "               Financial Analyst         26\n",
       "               Graphic Designer          15\n",
       "               IT                        17\n",
       "               Manager                   12\n",
       "               Marketing Associate       25\n",
       "               Sales Associate           17\n",
       "               Software Engineer         18\n",
       "               Warehouse Associate       21\n",
       "Engineering    Data Scientist            18\n",
       "               Driver                    18\n",
       "               Financial Analyst         21\n",
       "               Graphic Designer          22\n",
       "               IT                        15\n",
       "               Manager                   15\n",
       "               Marketing Associate       19\n",
       "               Sales Associate           18\n",
       "               Software Engineer         25\n",
       "               Warehouse Associate       21\n",
       "Management     Data Scientist            18\n",
       "               Driver                    19\n",
       "               Financial Analyst         14\n",
       "               Graphic Designer          19\n",
       "               IT                        21\n",
       "               Manager                   26\n",
       "               Marketing Associate       17\n",
       "               Sales Associate           24\n",
       "               Software Engineer         25\n",
       "               Warehouse Associate       15\n",
       "Operations     Data Scientist            24\n",
       "               Driver                    17\n",
       "               Financial Analyst         31\n",
       "               Graphic Designer          23\n",
       "               IT                        19\n",
       "               Manager                   18\n",
       "               Marketing Associate       21\n",
       "               Sales Associate           20\n",
       "               Software Engineer         19\n",
       "               Warehouse Associate       18\n",
       "Sales          Data Scientist            22\n",
       "               Driver                    20\n",
       "               Financial Analyst         15\n",
       "               Graphic Designer          19\n",
       "               IT                        24\n",
       "               Manager                   19\n",
       "               Marketing Associate       36\n",
       "               Sales Associate           15\n",
       "               Software Engineer         22\n",
       "               Warehouse Associate       15"
      ]
     },
     "execution_count": 36,
     "metadata": {},
     "output_type": "execute_result"
    }
   ],
   "source": [
    "pd.pivot_table(data_set, index = ['dept','jobTitle'], values = 'basePay', aggfunc = 'count')"
   ]
  },
  {
   "cell_type": "code",
   "execution_count": 37,
   "id": "9323dd11-34ba-4bf8-bb01-46aac045da76",
   "metadata": {},
   "outputs": [
    {
     "data": {
      "text/plain": [
       "Index(['jobTitle', 'gender', 'age', 'perfEval', 'edu', 'dept', 'seniority',\n",
       "       'basePay', 'bonus', 'desc_len'],\n",
       "      dtype='object')"
      ]
     },
     "execution_count": 37,
     "metadata": {},
     "output_type": "execute_result"
    }
   ],
   "source": [
    "data_set.columns"
   ]
  },
  {
   "cell_type": "code",
   "execution_count": 38,
   "id": "0dd85cae-0fd6-4aab-ae65-a8a35c181be1",
   "metadata": {},
   "outputs": [],
   "source": [
    "data_set_pivots = data_set[['jobTitle', 'gender', 'age', 'perfEval', 'edu', 'dept', 'seniority',\n",
    "       'basePay', 'bonus', 'desc_len']]"
   ]
  },
  {
   "cell_type": "code",
   "execution_count": 39,
   "id": "cc3ce004-440e-4577-b3ea-e1236ae50274",
   "metadata": {},
   "outputs": [
    {
     "name": "stdout",
     "output_type": "stream",
     "text": [
      "jobTitle\n",
      "                           basePay\n",
      "jobTitle                          \n",
      "Manager              125329.600000\n",
      "Software Engineer    105514.935780\n",
      "Financial Analyst     94996.878505\n",
      "Sales Associate       93396.489362\n",
      "Data Scientist        92433.420561\n",
      "Graphic Designer      90892.530612\n",
      "IT                    90737.468750\n",
      "Warehouse Associate   89556.122222\n",
      "Driver                89382.208791\n",
      "Marketing Associate   76656.372881\n",
      "gender\n",
      "             basePay\n",
      "gender              \n",
      "Male    98457.545113\n",
      "Female  89942.818376\n",
      "age\n",
      "           basePay\n",
      "age               \n",
      "60   126080.277778\n",
      "58   119075.461538\n",
      "65   118818.045455\n",
      "63   116292.954545\n",
      "59   115749.043478\n",
      "62   114703.500000\n",
      "64   113648.333333\n",
      "57   110079.680000\n",
      "61   110045.388889\n",
      "53   109186.730769\n",
      "43   106359.733333\n",
      "42   105972.625000\n",
      "54   105933.384615\n",
      "56   105582.333333\n",
      "55   105194.807692\n",
      "48   104027.857143\n",
      "51   100949.944444\n",
      "49    99960.892857\n",
      "47    98648.380952\n",
      "45    96861.720000\n",
      "52    96289.928571\n",
      "50    95691.750000\n",
      "44    93492.111111\n",
      "38    93244.941176\n",
      "39    92913.294118\n",
      "40    92871.250000\n",
      "36    91690.000000\n",
      "46    91200.571429\n",
      "41    90987.285714\n",
      "35    90248.388889\n",
      "37    88949.250000\n",
      "32    88717.764706\n",
      "21    87959.250000\n",
      "30    86648.631579\n",
      "28    83582.578947\n",
      "25    82765.357143\n",
      "29    81395.818182\n",
      "34    80061.800000\n",
      "33    78139.269231\n",
      "23    77994.954545\n",
      "19    77944.850000\n",
      "26    76538.608696\n",
      "31    76439.045455\n",
      "27    76013.200000\n",
      "24    73976.708333\n",
      "20    73497.884615\n",
      "22    73072.730769\n",
      "18    68486.241379\n",
      "perfEval\n",
      "               basePay\n",
      "perfEval              \n",
      "1         97078.631313\n",
      "2         95339.661458\n",
      "4         94942.420290\n",
      "3         92596.793814\n",
      "5         92483.301435\n",
      "edu\n",
      "                  basePay\n",
      "edu                      \n",
      "PhD          99880.777311\n",
      "Masters      97595.542969\n",
      "College      92126.597510\n",
      "High School  88732.298113\n",
      "dept\n",
      "                     basePay\n",
      "dept                        \n",
      "Sales           97722.801932\n",
      "Management      96492.974747\n",
      "Engineering     96492.552083\n",
      "Administration  91692.025907\n",
      "Operations      90072.823810\n",
      "seniority\n",
      "                 basePay\n",
      "seniority               \n",
      "5          113477.715026\n",
      "4          104146.173913\n",
      "3           94679.643836\n",
      "2           84640.416268\n",
      "1           76840.353846\n",
      "basePay\n",
      "\n"
     ]
    }
   ],
   "source": [
    "try:\n",
    "    for i in data_set_pivots.columns:\n",
    "        print(i)\n",
    "        print(pd.pivot_table(data_set_pivots,index =i, values = 'basePay').sort_values('basePay', ascending = False))\n",
    "except:\n",
    "        print('')"
   ]
  },
  {
   "cell_type": "code",
   "execution_count": null,
   "id": "d107972b-5b7d-40fb-9a2e-d256039a0921",
   "metadata": {},
   "outputs": [],
   "source": []
  }
 ],
 "metadata": {
  "kernelspec": {
   "display_name": "Python 3 (ipykernel)",
   "language": "python",
   "name": "python3"
  },
  "language_info": {
   "codemirror_mode": {
    "name": "ipython",
    "version": 3
   },
   "file_extension": ".py",
   "mimetype": "text/x-python",
   "name": "python",
   "nbconvert_exporter": "python",
   "pygments_lexer": "ipython3",
   "version": "3.9.12"
  }
 },
 "nbformat": 4,
 "nbformat_minor": 5
}
